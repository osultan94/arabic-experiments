{
 "cells": [
  {
   "cell_type": "code",
   "execution_count": 1,
   "metadata": {},
   "outputs": [],
   "source": [
    "from bpemb import BPEmb"
   ]
  },
  {
   "cell_type": "code",
   "execution_count": 2,
   "metadata": {},
   "outputs": [],
   "source": [
    "BPEmb_en = BPEmb(lang='en', dim=100, vs=25000)"
   ]
  },
  {
   "cell_type": "code",
   "execution_count": 3,
   "metadata": {},
   "outputs": [
    {
     "data": {
      "text/plain": [
       "['▁i',\n",
       " \"'\",\n",
       " 'm',\n",
       " '▁trying',\n",
       " '▁to',\n",
       " '▁enc',\n",
       " 'ode',\n",
       " '▁this',\n",
       " '▁sentence',\n",
       " '▁and',\n",
       " '▁get',\n",
       " '▁a',\n",
       " '▁better',\n",
       " '▁understanding',\n",
       " '▁of',\n",
       " '▁how',\n",
       " '▁it',\n",
       " '▁works']"
      ]
     },
     "execution_count": 3,
     "metadata": {},
     "output_type": "execute_result"
    }
   ],
   "source": [
    "BPEmb_en.encode(\"I'm trying to encode this sentence and get a better understanding of how it works\")"
   ]
  },
  {
   "cell_type": "code",
   "execution_count": 4,
   "metadata": {},
   "outputs": [],
   "source": [
    "BPEmb_ar = BPEmb(lang='ar', dim=100, vs=25000)"
   ]
  },
  {
   "cell_type": "code",
   "execution_count": 5,
   "metadata": {},
   "outputs": [],
   "source": [
    "encoded = BPEmb_ar.encode(\"إننى أحاول أن أجهز هذا النص، لأفهم كيف تعمل هذه المكتبة، وهل سيكون أداؤها أفضل من تجربتى لتدريب أداتى الخاصة\")"
   ]
  },
  {
   "cell_type": "code",
   "execution_count": 6,
   "metadata": {},
   "outputs": [
    {
     "data": {
      "text/plain": [
       "32"
      ]
     },
     "execution_count": 6,
     "metadata": {},
     "output_type": "execute_result"
    }
   ],
   "source": [
    "len(encoded)"
   ]
  },
  {
   "cell_type": "code",
   "execution_count": 7,
   "metadata": {},
   "outputs": [
    {
     "data": {
      "text/plain": [
       "['▁إن',\n",
       " 'نى',\n",
       " '▁أح',\n",
       " 'اول',\n",
       " '▁أن',\n",
       " '▁أ',\n",
       " 'جهز',\n",
       " '▁هذا',\n",
       " '▁النص',\n",
       " '،',\n",
       " '▁لأ',\n",
       " 'فهم',\n",
       " '▁كيف',\n",
       " '▁تعمل',\n",
       " '▁هذه',\n",
       " '▁المكتبة',\n",
       " '،',\n",
       " '▁وه',\n",
       " 'ل',\n",
       " '▁سيكون',\n",
       " '▁أ',\n",
       " 'دا',\n",
       " 'ؤها',\n",
       " '▁أفضل',\n",
       " '▁من',\n",
       " '▁تجرب',\n",
       " 'تى',\n",
       " '▁لتدريب',\n",
       " '▁أد',\n",
       " 'ات',\n",
       " 'ى',\n",
       " '▁الخاصة']"
      ]
     },
     "execution_count": 7,
     "metadata": {},
     "output_type": "execute_result"
    }
   ],
   "source": [
    "encoded"
   ]
  },
  {
   "cell_type": "code",
   "execution_count": null,
   "metadata": {},
   "outputs": [],
   "source": []
  }
 ],
 "metadata": {
  "kernelspec": {
   "display_name": "ltr",
   "language": "python",
   "name": "python3"
  },
  "language_info": {
   "codemirror_mode": {
    "name": "ipython",
    "version": 3
   },
   "file_extension": ".py",
   "mimetype": "text/x-python",
   "name": "python",
   "nbconvert_exporter": "python",
   "pygments_lexer": "ipython3",
   "version": "3.9.7"
  },
  "orig_nbformat": 4
 },
 "nbformat": 4,
 "nbformat_minor": 2
}
