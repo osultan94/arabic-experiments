{
 "cells": [
  {
   "cell_type": "code",
   "execution_count": 1,
   "metadata": {},
   "outputs": [],
   "source": [
    "# Append the parent directory to the system pathimport os\n",
    "import os\n",
    "import sys\n",
    "\n",
    "parent_dir = os.path.dirname(os.getcwd())\n",
    "sys.path.append(parent_dir)"
   ]
  },
  {
   "cell_type": "code",
   "execution_count": 2,
   "metadata": {},
   "outputs": [],
   "source": [
    "from tqdm.notebook import tqdm"
   ]
  },
  {
   "cell_type": "code",
   "execution_count": 3,
   "metadata": {},
   "outputs": [],
   "source": [
    "from data.corpus_builder import CorpusBuilder\n"
   ]
  },
  {
   "cell_type": "code",
   "execution_count": 4,
   "metadata": {},
   "outputs": [
    {
     "name": "stdout",
     "output_type": "stream",
     "text": [
      "reading corpus from: /media/omar/4F4D444715DFE705/workplace/arabic-experiments/data/Khaleej-2004/\n"
     ]
    },
    {
     "data": {
      "application/vnd.jupyter.widget-view+json": {
       "model_id": "acb1a70a6d58478181f593f8d13a762d",
       "version_major": 2,
       "version_minor": 0
      },
      "text/plain": [
       "Reading corpus files:   0%|          | 0/5690 [00:00<?, ?it/s]"
      ]
     },
     "metadata": {},
     "output_type": "display_data"
    },
    {
     "name": "stdout",
     "output_type": "stream",
     "text": [
      "Corpus size: 5690\n",
      "Corpus data example:\n",
      "   عمان تستضيف ندوة حسن الاداء في المؤسسات المالية والتجارية   افتتحت بسلطنة عمان أمس ندوة حول حسن الاداء في المؤسسات المالية والتجارية الذي تنظمه الهيئة العامة لسوق المال والمجمع العربي للمحاسبين القانونيين بالتعاون مع مجموعة طلال ابو غزالة   وتهدف الندوة الى دعوة المهتمين للحوار وتأسيس ملتقى لتطوير مباديء عامة لحسن الاداء على مستوى العالم العربي حيث تولي الهيئة هذا الموضوع جل اهتمامها وتسعى للقيام بواجباتها نحو ترسيخ اسس التعامل السليم والامثل لضمان حسن سير العمل ايمانا منها باهمية الارتقاء بمستوى النظم الادارية المتبعة لتوفير الحماية اللازمة للشركات كما تستهدف الندوة البنوك المركزية والبنوك التجارية والمؤسسات المالية وشركات المساهمة وغرف التجارة والصناعة وجمعيات رجال الاعمال والبورصات واسواق المال واجهزة الرقابة على المصارف ومراقبي الشركات ومكاتب التدقيق وقال الرئيس التنفيذي لهيئة سوق المال يحيي بن سعيد الجابري في كلمة القاها في بداية الندوة ان هذا اللقاء يعتبر متميزا نسلط فيه الضوء على أهم جوانب تحسين الاداء في المؤسسات المالية والتجارية واوضح ان الندوة يشارك فيها عدد من الشخصيات البارزة التي تقلدت مناصب رفيعة في بلادها مما اكسبتها تجربة غنية وجعلتها قادرة على العطاء واضاف ان تحسين الاداء ينعكس ايجابا على الاستخدام الامثل للموارد الاقتصادية وتعزيز الاستقرار الاقتصادي والاجتماعي ودفع التنمية الاقتصادية وحفظ التوازن الداخلي والخارجي للاقتصاد الوطني واشار الى ان المؤسسات في هذا العصر تواجه تحديات وازمات عديدة وفي المقابل هناك معوقات تقف أمام طموحات مسيرة تقدم وارتقاء هذه المؤسسات التي تحاول معالجة هذه الازمات في معظم الاحيان بطريقة أو بأخرى وذكر ان السلطنة تفخر بكونها من الدول السباقة في تبني الاجراءات الكفيلة بتحسين مستوى الاداء موضحا اننا في الهيئة العامة قمنا بعقد ندوات حول تنظيم وادارة الشركات توجت باصدار ميثاق تنظيم وادارة الشركات الذي يعد الاول من نوعه في المنطقة من جانبه ألقى رئيس مجلس ادارة مجموعة طلال أبو غزالة كلمة قال فيها ان الدول الصناعية لاسيما في اوروبا وامريكا الشمالية لديها موروث من التقاليد والانظمة خاصة بحسن الاداء في الشركات مر وقت طويل على اعتمادها وان استثنينا حالات عديدة واضاف ان هذا يتناقض مع الوضع في عالمنا العربي حيث المؤسسات معتادة على التصرف بشىء من الحرية على الرغم من وجود ضوابط حكومية صارمة بالمفهوم العام واوضح اننا في العالم العربي نواجه تحديات خاصة ومن بين اكبر القضايا التي نواجهها قضية الثقة التي هي الاساس الجوهري والسبب الكامن وراء ضرورة وضع أنظمة حسن الاداء في الشركات في المقام الاول                      \n"
     ]
    },
    {
     "data": {
      "application/vnd.jupyter.widget-view+json": {
       "model_id": "a53d96a8fc3942a1bd66023238625060",
       "version_major": 2,
       "version_minor": 0
      },
      "text/plain": [
       "Pre-tokenizing corpus:   0%|          | 0/5690 [00:00<?, ?it/s]"
      ]
     },
     "metadata": {},
     "output_type": "display_data"
    },
    {
     "name": "stdout",
     "output_type": "stream",
     "text": [
      "Number of pre-tokens: 2467267\n",
      "Number of unique tokens: 122513\n",
      "Pre-tokenized corpus data example:\n",
      "عمان\n",
      "most frequently used tokens: ['في', 'من', 'على', 'ان', 'التي', 'الى', 'أن', 'إلى', 'عن', 'البحرين']\n",
      "least frequently used tokens: ['والتعتيم', 'الحؤول', 'بوعكة', 'المتاحية', 'ويستفيدون', 'لاتلعب', 'وبنان', 'بالأقل', 'وللتعرف', 'وتتضاعف']\n"
     ]
    }
   ],
   "source": [
    "corpus = CorpusBuilder('khaleej')"
   ]
  },
  {
   "cell_type": "code",
   "execution_count": 5,
   "metadata": {},
   "outputs": [
    {
     "data": {
      "application/vnd.jupyter.widget-view+json": {
       "model_id": "92ec2c0da79d403bad9726c78f1c747e",
       "version_major": 2,
       "version_minor": 0
      },
      "text/plain": [
       "Checking derived tokens:   0%|          | 0/122513 [00:00<?, ?it/s]"
      ]
     },
     "metadata": {},
     "output_type": "display_data"
    },
    {
     "name": "stdout",
     "output_type": "stream",
     "text": [
      "Number of derived tokens: 82563\n"
     ]
    }
   ],
   "source": [
    "corpus.derived_tokens = corpus.get_derived_tokens()"
   ]
  },
  {
   "cell_type": "code",
   "execution_count": 6,
   "metadata": {},
   "outputs": [
    {
     "data": {
      "text/plain": [
       "['التي',\n",
       " 'البحرين',\n",
       " 'الذي',\n",
       " 'خلال',\n",
       " 'وقال',\n",
       " 'الشيخ',\n",
       " 'العام',\n",
       " 'العمل',\n",
       " 'المجلس',\n",
       " 'العربية']"
      ]
     },
     "execution_count": 6,
     "metadata": {},
     "output_type": "execute_result"
    }
   ],
   "source": [
    "corpus.derived_tokens[:10]"
   ]
  },
  {
   "cell_type": "code",
   "execution_count": 7,
   "metadata": {},
   "outputs": [],
   "source": [
    "import re"
   ]
  },
  {
   "cell_type": "code",
   "execution_count": 10,
   "metadata": {},
   "outputs": [],
   "source": [
    "def substitute_main_chars(token):\n",
    "    sub_token = re.sub(r'[^سألتمونيها]', '_', token)\n",
    "    return sub_token"
   ]
  },
  {
   "cell_type": "code",
   "execution_count": 11,
   "metadata": {},
   "outputs": [
    {
     "data": {
      "text/plain": [
       "'_ا__'"
      ]
     },
     "execution_count": 11,
     "metadata": {},
     "output_type": "execute_result"
    }
   ],
   "source": [
    "substitute_main_chars('قارب')"
   ]
  },
  {
   "cell_type": "code",
   "execution_count": 12,
   "metadata": {},
   "outputs": [],
   "source": [
    "templates = [substitute_main_chars(token) for token in corpus.derived_tokens]"
   ]
  },
  {
   "cell_type": "code",
   "execution_count": 13,
   "metadata": {},
   "outputs": [
    {
     "data": {
      "text/plain": [
       "['التي',\n",
       " 'ال___ين',\n",
       " 'ال_ي',\n",
       " '_لال',\n",
       " 'و_ال',\n",
       " 'ال_ي_',\n",
       " 'ال_ام',\n",
       " 'ال_مل',\n",
       " 'الم_لس',\n",
       " 'ال___ي_']"
      ]
     },
     "execution_count": 13,
     "metadata": {},
     "output_type": "execute_result"
    }
   ],
   "source": [
    "templates[:10]"
   ]
  },
  {
   "cell_type": "code",
   "execution_count": 14,
   "metadata": {},
   "outputs": [
    {
     "data": {
      "text/plain": [
       "82563"
      ]
     },
     "execution_count": 14,
     "metadata": {},
     "output_type": "execute_result"
    }
   ],
   "source": [
    "len(templates)"
   ]
  },
  {
   "cell_type": "code",
   "execution_count": 16,
   "metadata": {},
   "outputs": [
    {
     "data": {
      "text/plain": [
       "42301"
      ]
     },
     "execution_count": 16,
     "metadata": {},
     "output_type": "execute_result"
    }
   ],
   "source": [
    "templates = list(set(templates))\n",
    "len(templates)"
   ]
  },
  {
   "cell_type": "code",
   "execution_count": 17,
   "metadata": {},
   "outputs": [],
   "source": [
    "def parse_on_template(template, token):\n",
    "    token_template = substitute_main_chars(token)\n",
    "    if template == token_template:\n",
    "        return True\n",
    "    return False"
   ]
  },
  {
   "cell_type": "code",
   "execution_count": 20,
   "metadata": {},
   "outputs": [
    {
     "data": {
      "text/plain": [
       "False"
      ]
     },
     "execution_count": 20,
     "metadata": {},
     "output_type": "execute_result"
    }
   ],
   "source": [
    "token = 'سارق'\n",
    "template = '_ا__'\n",
    "parse_on_template(template, token)"
   ]
  },
  {
   "cell_type": "code",
   "execution_count": 40,
   "metadata": {},
   "outputs": [
    {
     "data": {
      "text/plain": [
       "'_ا__'"
      ]
     },
     "execution_count": 40,
     "metadata": {},
     "output_type": "execute_result"
    }
   ],
   "source": [
    "substitute_main_chars('باحث')"
   ]
  },
  {
   "cell_type": "code",
   "execution_count": 32,
   "metadata": {},
   "outputs": [
    {
     "data": {
      "application/vnd.jupyter.widget-view+json": {
       "model_id": "90c4bedd2d7446619b2c884ac6995f3c",
       "version_major": 2,
       "version_minor": 0
      },
      "text/plain": [
       "Counting templates:   0%|          | 0/122513 [00:00<?, ?it/s]"
      ]
     },
     "metadata": {},
     "output_type": "display_data"
    }
   ],
   "source": [
    "templates_freq = {}\n",
    "templates_freq_2 = {}\n",
    "for token, freq in tqdm(corpus.pre_tokens_with_freq.items(), desc=\"Counting templates\"):\n",
    "    for template in templates:\n",
    "        if parse_on_template(template, token):\n",
    "            if template not in templates_freq:\n",
    "                templates_freq[template] = 0\n",
    "                templates_freq_2[template] = 0\n",
    "            templates_freq[template] += freq\n",
    "            templates_freq_2[template] += 1\n",
    "            break"
   ]
  },
  {
   "cell_type": "code",
   "execution_count": 41,
   "metadata": {},
   "outputs": [],
   "source": [
    "def get_template_freq(template):\n",
    "    return templates_freq_2.get(template, 0)"
   ]
  },
  {
   "cell_type": "code",
   "execution_count": 42,
   "metadata": {},
   "outputs": [],
   "source": [
    "templates = sorted(templates, key=get_template_freq, reverse=True)"
   ]
  },
  {
   "cell_type": "code",
   "execution_count": 43,
   "metadata": {},
   "outputs": [
    {
     "data": {
      "text/plain": [
       "['ال___',\n",
       " '__ا_',\n",
       " '_ا__',\n",
       " '__ا__',\n",
       " 'ال__ا_',\n",
       " '___ا',\n",
       " '_ال___',\n",
       " '___ا_',\n",
       " 'وال___',\n",
       " 'ال_ا__',\n",
       " '_ا___',\n",
       " 'ال__ي_',\n",
       " 'ال__ا__',\n",
       " 'الم___',\n",
       " 'ال____',\n",
       " 'ال_ا___',\n",
       " 'ا___',\n",
       " 'ال__و_',\n",
       " '___ها',\n",
       " 'الم____',\n",
       " 'الت__ي_',\n",
       " 'ا__ا_',\n",
       " 'ال__ي__',\n",
       " 'الا__ا_',\n",
       " 'و_ا__',\n",
       " 'م___ا',\n",
       " '_ا__ا',\n",
       " '___وا',\n",
       " '___نا',\n",
       " 'م_ا__',\n",
       " 'وال__ا__',\n",
       " 'الم_ا__',\n",
       " 'وال__ا_',\n",
       " 'ال___ي',\n",
       " 'ا_ت_ا_',\n",
       " 'ال___ا_',\n",
       " '___ا__',\n",
       " 'ال___ي_',\n",
       " 'و__ا_',\n",
       " '__ي_ا']"
      ]
     },
     "execution_count": 43,
     "metadata": {},
     "output_type": "execute_result"
    }
   ],
   "source": [
    "templates[:40]"
   ]
  },
  {
   "cell_type": "code",
   "execution_count": 37,
   "metadata": {},
   "outputs": [],
   "source": [
    "# pickle templates, templates_freq, templates_freq_2\n",
    "import pickle\n",
    "# pickle data\n",
    "with open('../data/templates.pkl', 'wb') as f:\n",
    "    pickle.dump(templates, f)\n",
    "with open('../data/templates_freq.pkl', 'wb') as f:\n",
    "    pickle.dump(templates_freq, f)\n",
    "with open('../data/templates_freq_2.pkl', 'wb') as f:\n",
    "    pickle.dump(templates_freq_2, f)"
   ]
  },
  {
   "cell_type": "code",
   "execution_count": null,
   "metadata": {},
   "outputs": [],
   "source": []
  }
 ],
 "metadata": {
  "kernelspec": {
   "display_name": "ltr",
   "language": "python",
   "name": "python3"
  },
  "language_info": {
   "codemirror_mode": {
    "name": "ipython",
    "version": 3
   },
   "file_extension": ".py",
   "mimetype": "text/x-python",
   "name": "python",
   "nbconvert_exporter": "python",
   "pygments_lexer": "ipython3",
   "version": "3.9.7"
  }
 },
 "nbformat": 4,
 "nbformat_minor": 2
}
