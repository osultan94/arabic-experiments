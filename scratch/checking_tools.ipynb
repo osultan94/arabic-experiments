{
 "cells": [
  {
   "cell_type": "code",
   "execution_count": 1,
   "metadata": {},
   "outputs": [],
   "source": [
    "from farasa.segmenter import FarasaSegmenter\n",
    "from farasa.pos import FarasaPOSTagger\n"
   ]
  },
  {
   "cell_type": "code",
   "execution_count": 2,
   "metadata": {},
   "outputs": [],
   "source": [
    "segmenter = FarasaSegmenter()\n",
    "pos_tagger = FarasaPOSTagger()\n"
   ]
  },
  {
   "cell_type": "code",
   "execution_count": 3,
   "metadata": {},
   "outputs": [
    {
     "name": "stdout",
     "output_type": "stream",
     "text": [
      "مرحب+ا ، كيف حال+ك ؟\n"
     ]
    }
   ],
   "source": [
    "text = \"مرحبا، كيف حالك؟\"\n",
    "segmented_text = segmenter.segment(text)\n",
    "print(segmented_text)"
   ]
  },
  {
   "cell_type": "code",
   "execution_count": 4,
   "metadata": {},
   "outputs": [
    {
     "data": {
      "text/plain": [
       "'هنا أحدث+كم من ال+بحرين ، حيث يقف ال+عالم مذهول+ا مما يرى'"
      ]
     },
     "execution_count": 4,
     "metadata": {},
     "output_type": "execute_result"
    }
   ],
   "source": [
    "text = 'هنا أحدثكم من البحرين، حيث يقف العالم مذهولا مما يرى'\n",
    "segmenter.segment(text)"
   ]
  },
  {
   "cell_type": "code",
   "execution_count": 5,
   "metadata": {},
   "outputs": [
    {
     "name": "stdout",
     "output_type": "stream",
     "text": [
      "S/S أنا/PRON طالب/V في/PREP ال+ جامع +ة/DET+NOUN+NSUFF-FS E/E\n"
     ]
    }
   ],
   "source": [
    "text = \"أنا طالب في الجامعة\"\n",
    "pos_tags = pos_tagger.tag(text)\n",
    "print(pos_tags)"
   ]
  },
  {
   "cell_type": "code",
   "execution_count": null,
   "metadata": {},
   "outputs": [],
   "source": []
  }
 ],
 "metadata": {
  "kernelspec": {
   "display_name": "ltr",
   "language": "python",
   "name": "python3"
  },
  "language_info": {
   "codemirror_mode": {
    "name": "ipython",
    "version": 3
   },
   "file_extension": ".py",
   "mimetype": "text/x-python",
   "name": "python",
   "nbconvert_exporter": "python",
   "pygments_lexer": "ipython3",
   "version": "3.9.7"
  }
 },
 "nbformat": 4,
 "nbformat_minor": 2
}
